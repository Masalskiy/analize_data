{
 "cells": [
  {
   "cell_type": "code",
   "execution_count": 1,
   "metadata": {},
   "outputs": [],
   "source": [
    "import pandas as pd"
   ]
  },
  {
   "cell_type": "code",
   "execution_count": null,
   "metadata": {},
   "outputs": [],
   "source": [
    "df['price_mean'] = df.groupby(\"make\")['price'].transform('mean')\n",
    "# Melt позволяет переворачивать таблицу, преобразуя столбцы в строки\n",
    "pd.melt(df,id_vars=[\"gear\"], value_vars=['price'])"
   ]
  },
  {
   "cell_type": "code",
   "execution_count": 24,
   "metadata": {},
   "outputs": [],
   "source": [
    "try:    \n",
    "    df = pd.read_csv('E:/DataScience/DataSets_course/germany_cars.csv')\n",
    "except:\n",
    "    print('Некорректная загрузка данных')"
   ]
  },
  {
   "attachments": {},
   "cell_type": "markdown",
   "metadata": {},
   "source": [
    "## Задача 1"
   ]
  },
  {
   "attachments": {},
   "cell_type": "markdown",
   "metadata": {},
   "source": [
    "* Оставить строки, в которых количество лошадиных сил меньше 50, а также год выпуска старше 2015.\n",
    "* Оставить строки, в которых автомобили либо электрические, либо имеют ручную коробку передач\n",
    "* Оставить строки, в которых производитель `Renault` отсутствует, кроме того - индекс строки является чётным"
   ]
  },
  {
   "attachments": {},
   "cell_type": "markdown",
   "metadata": {},
   "source": [
    "### Вариант ответа для самопроверки"
   ]
  },
  {
   "cell_type": "code",
   "execution_count": null,
   "metadata": {},
   "outputs": [],
   "source": [
    "df = df[(df['hp'] < 50) & (df['year'] < 2015)]\n",
    "df = df[(df['fuel'] == 'Electric') | (df['gear'] == 'Manual')]\n",
    "df = df[(df['make'] != 'Renault') & (df.index % 2 == 0)]"
   ]
  },
  {
   "attachments": {},
   "cell_type": "markdown",
   "metadata": {},
   "source": [
    "## Задача 2"
   ]
  },
  {
   "attachments": {},
   "cell_type": "markdown",
   "metadata": {},
   "source": [
    "* Вы имеете два датафрейма `df1` и `df2`. Объедините их, чтобы получился первоначальный датасет\n",
    "* Создайте новый столбец, который будет отражать стоимость одной л.с. в автомобиле\n",
    "* Оставьте строки, в которых значения в новом столбце превышают 500, а также количество л.с. превышает 300\n",
    "* Оставьте строки, где автомобили пренадлежат частным лицам и пробег меньше 100 миль. Либо же должны быть такжде видны автомобили с пробегом выше 10000 миль\n",
    "\n"
   ]
  },
  {
   "cell_type": "code",
   "execution_count": 18,
   "metadata": {},
   "outputs": [],
   "source": [
    "# Разделение датасета\n",
    "half_len = len(df)//2\n",
    "df1 = df.iloc[:half_len, :]\n",
    "df2 = df.iloc[half_len:, :]"
   ]
  },
  {
   "attachments": {},
   "cell_type": "markdown",
   "metadata": {},
   "source": [
    "### Вариант ответа для самопроверки"
   ]
  },
  {
   "cell_type": "code",
   "execution_count": 19,
   "metadata": {},
   "outputs": [],
   "source": [
    "df = pd.concat([df1, df2])\n",
    "df['price_for_hp'] = df['price'] / df ['hp']\n",
    "df = df[(df['price_for_hp'] > 500) & (df['hp'] >= 300)]\n",
    "df = df[(df['offerType'] == 'Used') & (df['mileage'] < 100) | (df['mileage'] > 10000)]"
   ]
  },
  {
   "attachments": {},
   "cell_type": "markdown",
   "metadata": {},
   "source": [
    "## Задача 3"
   ]
  },
  {
   "attachments": {},
   "cell_type": "markdown",
   "metadata": {},
   "source": [
    "* Запишите в переменную среднее значение по `price`\n",
    "* Отсортируйте данные: Оставьте только строки, значение `price` в которых больше среднего\n",
    "* Преобразуйте столбец `year`: Если значение меньше 2017, то прибавьте `2`, иначе отнемите `2`\n",
    "* Переименуйте преобразованный столбец в `new_year`\n",
    "* Оставьте строки, в которых год равен 2019\n",
    "* Оставьте строки, в которых `gear` равен первому значению из уникальных в данном столбце, а `fuel` третьему."
   ]
  },
  {
   "attachments": {},
   "cell_type": "markdown",
   "metadata": {},
   "source": [
    "### Вариант ответа  для самопроверки"
   ]
  },
  {
   "cell_type": "code",
   "execution_count": 25,
   "metadata": {},
   "outputs": [],
   "source": [
    "\n",
    "mean_price = df['price'].mean()\n",
    "df = df[df['price'] > mean_price]\n",
    "\n",
    "\n",
    "df['year'] = df['year'].apply(lambda x: x + 2 if x < 2017 else x - 2)\n",
    "df.rename(columns = {'year' : 'new_year'}, inplace = True)\n",
    "df = df[df['new_year'] == 2019] \n",
    "df = df[(df['gear'] == df['gear'].unique()[0]) & (df['fuel'] == df['fuel'].unique()[2])]\n",
    "\n"
   ]
  },
  {
   "cell_type": "code",
   "execution_count": null,
   "metadata": {},
   "outputs": [],
   "source": []
  }
 ],
 "metadata": {
  "kernelspec": {
   "display_name": "Python 3",
   "language": "python",
   "name": "python3"
  },
  "language_info": {
   "codemirror_mode": {
    "name": "ipython",
    "version": 3
   },
   "file_extension": ".py",
   "mimetype": "text/x-python",
   "name": "python",
   "nbconvert_exporter": "python",
   "pygments_lexer": "ipython3",
   "version": "3.11.5"
  },
  "orig_nbformat": 4
 },
 "nbformat": 4,
 "nbformat_minor": 2
}
